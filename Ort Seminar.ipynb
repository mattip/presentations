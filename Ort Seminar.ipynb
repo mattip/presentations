{
 "cells": [
  {
   "cell_type": "code",
   "execution_count": 1,
   "metadata": {
    "slideshow": {
     "slide_type": "skip"
    }
   },
   "outputs": [],
   "source": [
    "from ipywidgets import interact, interactive, fixed, interact_manual\n",
    "import ipywidgets as widgets\n",
    "from IPython.display import display\n",
    "\n",
    "import numpy as np\n",
    "import matplotlib.pyplot as plt\n",
    "#%matplotlib inline\n",
    "\n",
    "import pandas as pd\n",
    "\n",
    "from scipy.optimize import curve_fit as cf"
   ]
  },
  {
   "cell_type": "markdown",
   "metadata": {
    "slideshow": {
     "slide_type": "slide"
    }
   },
   "source": [
    "## Python, Open Source, and Teaching\n",
    "\n",
    "Matti Picus, Full-time NumPy Developer \n"
   ]
  },
  {
   "cell_type": "markdown",
   "metadata": {
    "slideshow": {
     "slide_type": "notes"
    }
   },
   "source": [
    "- thanks\n",
    "- Hebrew/English?\n",
    "- we will talk about: Open Source, Python, how can python be used as a first programming language. Along the way I will talk about myself and what I do now."
   ]
  },
  {
   "cell_type": "markdown",
   "metadata": {
    "slideshow": {
     "slide_type": "slide"
    }
   },
   "source": [
    "## Why is Open Source like Science?\n",
    "\n",
    "In a perfect world\n",
    " - Pluralistic: anyone can contribute\n",
    " - Merit-based contributions\n",
    " - The result belongs to everyone\n"
   ]
  },
  {
   "cell_type": "markdown",
   "metadata": {
    "slideshow": {
     "slide_type": "slide"
    }
   },
   "source": [
    "## Python and Open Source grew up together\n",
    "\n",
    "- Started in the 90s\n",
    "- Have grown up a lot since then\n",
    "  - Open Source moved from exchange of CDs and GPL to github and BSD/MIT\n",
    "  - Python matured, move from v1 to v2 to v3\n",
    "- Both now power the latest AI research, and are at the forefront of the tech world"
   ]
  },
  {
   "cell_type": "markdown",
   "metadata": {
    "slideshow": {
     "slide_type": "slide"
    }
   },
   "source": [
    "## Open Source and Licenses\n",
    "\n",
    "Code is text, is covered by copyright (like any text).\n",
    "Various kinds of licenses\n",
    "- None (need explicit permission)\n",
    "- Proprietary (Microsoft, Intel, NVidia)\n",
    "- Standardized\n",
    "  - Copy-left: GPL, LGPL, AGPL, Afero\n",
    "  - Permissive BSD, MIT, Apache"
   ]
  },
  {
   "cell_type": "markdown",
   "metadata": {
    "slideshow": {
     "slide_type": "notes"
    }
   },
   "source": [
    "just like a research paper, code is text and protected."
   ]
  },
  {
   "cell_type": "markdown",
   "metadata": {
    "slideshow": {
     "slide_type": "slide"
    }
   },
   "source": [
    "## But\n",
    "\n",
    "Licenses and Managing Open Source is a whole other lecture\n"
   ]
  },
  {
   "cell_type": "markdown",
   "metadata": {
    "slideshow": {
     "slide_type": "slide"
    }
   },
   "source": [
    "## Python\n",
    "\n",
    "Python is a syntax, an interpreter, and a community of contributors\n"
   ]
  },
  {
   "cell_type": "markdown",
   "metadata": {
    "slideshow": {
     "slide_type": "slide"
    }
   },
   "source": [
    "### A language syntax\n",
    "\n",
    "- indentation-based blocks of code\n",
    "- looks much like psuedo-code\n",
    "- dynamically types\n",
    "- supports functional programming, OOP\n",
    "- interpreted, but its roots are C\n"
   ]
  },
  {
   "cell_type": "code",
   "execution_count": 2,
   "metadata": {
    "slideshow": {
     "slide_type": "slide"
    }
   },
   "outputs": [],
   "source": [
    "def recur_fibo(n):\n",
    "   \"\"\"Recursive function to\n",
    "   calculate Fibonacci sequence\"\"\"\n",
    "   if n <= 1:\n",
    "       return n\n",
    "   else:\n",
    "       return(recur_fibo(n-1) + recur_fibo(n-2))\n",
    "       \n",
    "def test():\n",
    "    assert recur_fibo(10) == 55"
   ]
  },
  {
   "cell_type": "markdown",
   "metadata": {
    "slideshow": {
     "slide_type": "slide"
    }
   },
   "source": [
    "### An interpreter + stdlib\n",
    "\n",
    "- \"batteries included\"\n",
    "- needs little OS support to actually run\n",
    "- can be the glue to interact with other languages, binaries\n"
   ]
  },
  {
   "cell_type": "markdown",
   "metadata": {
    "slideshow": {
     "slide_type": "slide"
    }
   },
   "source": [
    "### Community\n",
    "\n",
    "  - Rich ecosystem\n",
    "    - NumPy, DJango, SciPy, matplotlib\n",
    "  - Easily extensible\n",
    "    - Tensorflow, PyTorch, OpenCV\n",
    "  - Commercially supported\n",
    "    - Anaconda, Enthought, Microsoft, Intel, devops \n"
   ]
  },
  {
   "cell_type": "markdown",
   "metadata": {
    "slideshow": {
     "slide_type": "slide"
    }
   },
   "source": [
    "## Now I can explain what I am doing here\n",
    "\n",
    "- Worked in image processing for many years in industry\n",
    "- Got \"hooked\" into Open Source, both as contributor and as an evangelist\n",
    "- Two-year grant from Sloan and Moore Foundation to work on NumPy\n"
   ]
  },
  {
   "cell_type": "markdown",
   "metadata": {
    "slideshow": {
     "slide_type": "notes"
    }
   },
   "source": [
    "kibbutznik, doctorate, startup, real-time video.\n",
    "\n",
    "latex editor, OpenCV, PyPy\n",
    "\n",
    "Remember science + open source?"
   ]
  },
  {
   "cell_type": "markdown",
   "metadata": {
    "slideshow": {
     "slide_type": "slide"
    }
   },
   "source": [
    "## How is Python used in teaching?\n",
    "- Can be used stand-alone, each student installs Python on a machine and works through lessons\n",
    "  - command line\n",
    "  - IDE\n",
    "- Can be taught as a \"first language\", since it is interpreted no compilation is needed."
   ]
  },
  {
   "cell_type": "markdown",
   "metadata": {
    "slideshow": {
     "slide_type": "slide"
    }
   },
   "source": [
    "### Various IDEs\n",
    "- Non-IDE\n",
    "  - VIM + console\n",
    "- Traditional IDE\n",
    "  - VS Code\n",
    "  - PyCharm\n",
    "  - Spyder"
   ]
  },
  {
   "cell_type": "markdown",
   "metadata": {
    "slideshow": {
     "slide_type": "slide"
    }
   },
   "source": [
    "### How is Python used in teaching?\n",
    "- Can be used via Jupyter Notebooks\n",
    "- Notebooks in the local browser, kernels can be remote or local\n",
    "  - Kernels: Julia, Python, R, (Matlab, C++ too)\n",
    "  - Kernels run anywhere: JupyterHub runs them in the cloud\n",
    "  - Students need only a minimal setup and a login\n"
   ]
  },
  {
   "cell_type": "markdown",
   "metadata": {
    "slideshow": {
     "slide_type": "slide"
    }
   },
   "source": [
    "# THIS WHOLE SLIDESHOW IS A NOTEBOOK"
   ]
  },
  {
   "cell_type": "code",
   "execution_count": 4,
   "metadata": {
    "slideshow": {
     "slide_type": "slide"
    }
   },
   "outputs": [
    {
     "name": "stdout",
     "output_type": "stream",
     "text": [
      "ac\n",
      "2 1\n",
      "3 5\n"
     ]
    }
   ],
   "source": [
    "print('ac')\n",
    "print(2, recur_fibo(2))\n",
    "print(3, recur_fibo(5))"
   ]
  },
  {
   "cell_type": "markdown",
   "metadata": {
    "slideshow": {
     "slide_type": "slide"
    }
   },
   "source": [
    "### Notebooks in teaching\n",
    "\n",
    "- How and why to teach with Jupyter Notebooks https://jupyter4edu.github.io/jupyter-edu-book/catalogue.html\n",
    "\n",
    "- Scientific Python Lectures https://github.com/jrjohansson/scientific-python-lectures"
   ]
  },
  {
   "cell_type": "code",
   "execution_count": 5,
   "metadata": {},
   "outputs": [],
   "source": [
    "import numpy as np\n",
    "a = np.ones((10,10))"
   ]
  },
  {
   "cell_type": "code",
   "execution_count": 6,
   "metadata": {},
   "outputs": [
    {
     "name": "stdout",
     "output_type": "stream",
     "text": [
      "[[1. 1. 1. 1. 1. 1. 1. 1. 1. 1.]\n",
      " [1. 1. 1. 1. 1. 1. 1. 1. 1. 1.]\n",
      " [1. 1. 1. 1. 1. 1. 1. 1. 1. 1.]\n",
      " [1. 1. 1. 1. 1. 1. 1. 1. 1. 1.]\n",
      " [1. 1. 1. 1. 1. 1. 1. 1. 1. 1.]\n",
      " [1. 1. 1. 1. 1. 1. 1. 1. 1. 1.]\n",
      " [1. 1. 1. 1. 1. 1. 1. 1. 1. 1.]\n",
      " [1. 1. 1. 1. 1. 1. 1. 1. 1. 1.]\n",
      " [1. 1. 1. 1. 1. 1. 1. 1. 1. 1.]\n",
      " [1. 1. 1. 1. 1. 1. 1. 1. 1. 1.]]\n"
     ]
    }
   ],
   "source": [
    "print(a)"
   ]
  },
  {
   "cell_type": "code",
   "execution_count": 7,
   "metadata": {},
   "outputs": [],
   "source": [
    "# Set up a demo of curve fitting in Scipy\n",
    "# adapted from https://github.com/tirthajyoti/Interactive_Machine_Learning/blob/master/Curve_fit_widget_1.ipynb\n",
    "# which is under the MIT license\n",
    "\n",
    "N_samples = 25\n",
    "x=np.linspace(-2,2,N_samples)"
   ]
  },
  {
   "cell_type": "markdown",
   "metadata": {},
   "source": [
    "### Function definitions (ideal fitting function and actual data generating function with noise)"
   ]
  },
  {
   "cell_type": "code",
   "execution_count": 8,
   "metadata": {},
   "outputs": [],
   "source": [
    "def f(x,a,mu,sigma):\n",
    "    r=a*np.exp(-(x-mu)**2/(2*sigma**2))\n",
    "    return (r)\n",
    "\n",
    "def func(amplitude,ideal_mu,ideal_sigma,noise_sd,noise_mean):\n",
    "    r=amplitude*np.exp(-(x-ideal_mu)**2/(2*ideal_sigma**2))\n",
    "    plt.figure(figsize=(8,5))\n",
    "    plt.plot(x,r,c='k',lw=3)\n",
    "    r= r+np.random.normal(loc=noise_mean,scale=noise_sd,size=N_samples)\n",
    "    plt.scatter(x,r,edgecolors='k',c='yellow',s=60)\n",
    "    plt.grid(True)\n",
    "    plt.show()\n",
    "    return (r)"
   ]
  },
  {
   "cell_type": "markdown",
   "metadata": {},
   "source": [
    "\n",
    "### Call the 'interactive' widget with the data generating function, which also plots the data real-time\n",
    "\n",
    "<div dir=\"rtl\">\n",
    "שחק עם  'noise_sd' ו- 'noise_mean' פרמטרים לראות איך הם משפיעים על דיוק ההתאמה (curve-fit)\n",
    "</div>"
   ]
  },
  {
   "cell_type": "code",
   "execution_count": 9,
   "metadata": {},
   "outputs": [
    {
     "data": {
      "application/vnd.jupyter.widget-view+json": {
       "model_id": "bb9676fb074c4eb29e1e63c55f9fcd1f",
       "version_major": 2,
       "version_minor": 0
      },
      "text/plain": [
       "interactive(children=(Dropdown(description='amplitude', options=(1, 2, 3, 4, 5), value=1), FloatSlider(value=0…"
      ]
     },
     "metadata": {},
     "output_type": "display_data"
    }
   ],
   "source": [
    "y=interactive(func,amplitude=[1,2,3,4,5],ideal_mu=(-5,5,0.5),\n",
    "              ideal_sigma=(0,2,0.2),\n",
    "              noise_sd=(0,1,0.1),noise_mean=(-1,1,0.2))\n",
    "display(y)"
   ]
  },
  {
   "cell_type": "code",
   "execution_count": 10,
   "metadata": {},
   "outputs": [
    {
     "name": "stdout",
     "output_type": "stream",
     "text": [
      "           Original Params  Estimated Params\n",
      "Amplitude              3.0          3.339776\n",
      "Mean                  -0.5         -0.488293\n",
      "Std.Dev                1.0          1.143206\n"
     ]
    },
    {
     "data": {
      "image/png": "[encoded data removed]",
      "text/plain": [
       "<Figure size 720x432 with 1 Axes>"
      ]
     },
     "metadata": {
      "needs_background": "light"
     },
     "output_type": "display_data"
    }
   ],
   "source": [
    "# Curve-fit optimizer\n",
    "p = y.result\n",
    "p1,_=cf(f,xdata=x,ydata=p)\n",
    "par_lst=list(p1)\n",
    "\n",
    "# Gather ideal parameters from the interactive widget object\n",
    "p2=list(y.kwargs.values())\n",
    "p3=p2[0:3]\n",
    "\n",
    "# Make the data matrix\n",
    "data = np.array([p3,par_lst])\n",
    "\n",
    "# Put it in a Data Frame\n",
    "df=pd.DataFrame(data=data.T,index=['Amplitude','Mean','Std.Dev'],columns=['Original Params','Estimated Params'])\n",
    "print(df)\n",
    "\n",
    "# Plot the ideal and estimated curves\n",
    "plt.figure(figsize=(10,6))\n",
    "plt.plot(x,f(x,par_lst[0],par_lst[1],par_lst[2]),'k--',lw=2)\n",
    "plt.plot(x,f(x,p3[0],p3[1],p3[2]),c='green',lw=2)\n",
    "plt.legend(['Fitted curve with noise','Ideal curve w/o noise'],fontsize=12)\n",
    "plt.grid(True)\n",
    "plt.show()"
   ]
  },
  {
   "cell_type": "code",
   "execution_count": 11,
   "metadata": {},
   "outputs": [
    {
     "data": {
      "image/png": "[encoded data removed]",
      "text/latex": [
       "$\\displaystyle a x^{2} + b x + c = 0$"
      ],
      "text/plain": [
       "   2              \n",
       "a⋅x  + b⋅x + c = 0"
      ]
     },
     "metadata": {},
     "output_type": "display_data"
    },
    {
     "data": {
      "image/png": "[encoded data removed]",
      "text/latex": [
       "$\\displaystyle \\left[ \\frac{- b + \\sqrt{- 4 a c + b^{2}}}{2 a}, \\  - \\frac{b + \\sqrt{- 4 a c + b^{2}}}{2 a}\\right]$"
      ],
      "text/plain": [
       "⎡        _____________   ⎛       _____________⎞ ⎤\n",
       "⎢       ╱           2    ⎜      ╱           2 ⎟ ⎥\n",
       "⎢-b + ╲╱  -4⋅a⋅c + b    -⎝b + ╲╱  -4⋅a⋅c + b  ⎠ ⎥\n",
       "⎢─────────────────────, ────────────────────────⎥\n",
       "⎣         2⋅a                     2⋅a           ⎦"
      ]
     },
     "execution_count": 11,
     "metadata": {},
     "output_type": "execute_result"
    }
   ],
   "source": [
    "from sympy import *\n",
    "from IPython.display import display\n",
    "init_printing()\n",
    "var('a:z')\n",
    "eq = Eq(a*x**2+b*x+c,0)\n",
    "display(eq)\n",
    "solve(eq,x)"
   ]
  },
  {
   "cell_type": "markdown",
   "metadata": {},
   "source": [
    "### Calculus Example\n",
    "\n",
    "Here's a more advanced example that solves a second-order differential equation (an example of the so-called \"harmonic oscillator\" equation):"
   ]
  },
  {
   "cell_type": "code",
   "execution_count": null,
   "metadata": {},
   "outputs": [],
   "source": [
    "from sympy import *\n",
    "var('C1 C2');\n",
    "y = Function('y')\n",
    "de = diff(y(t),t,t) + y(t)\n",
    "f = Lambda((t,C1,C2) , dsolve(de,y(t)).args[1])\n",
    "p = plot(f(t,1,0),f(t,0,1),(t,0,4*pi),ylim=(-1.5,1.5),\n",
    "   show=False,title='$'+latex(de)+'=0$')\n",
    "p[0].line_color = 'DarkGreen'\n",
    "p[1].line_color = 'DarkRed'\n",
    "p.show()\n"
   ]
  },
  {
   "cell_type": "code",
   "execution_count": null,
   "metadata": {},
   "outputs": [],
   "source": []
  }
 ],
 "metadata": {
  "celltoolbar": "Slideshow",
  "kernelspec": {
   "display_name": "Python 3",
   "language": "python",
   "name": "python3"
  },
  "language_info": {
   "codemirror_mode": {
    "name": "ipython",
    "version": 3
   },
   "file_extension": ".py",
   "mimetype": "text/x-python",
   "name": "python",
   "nbconvert_exporter": "python",
   "pygments_lexer": "ipython3",
   "version": "3.6.7"
  }
 },
 "nbformat": 4,
 "nbformat_minor": 2
}
